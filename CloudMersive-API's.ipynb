{
 "cells": [
  {
   "cell_type": "markdown",
   "metadata": {},
   "source": [
    "CloudMersive Free API's\n",
    "\n",
    "1. Validate the domain.         --> This api can be used to validate the domain, and authenticate the request.\n",
    "2. OCR                          --> This api can be used to retrieve the characters from a image or a document.\n",
    "3. Natural Language Processing  --> Entity Extraction from a sentence\n"
   ]
  },
  {
   "cell_type": "code",
   "execution_count": 4,
   "metadata": {},
   "outputs": [
    {
     "name": "stdout",
     "output_type": "stream",
     "text": [
      "{'valid_domain': True}\n"
     ]
    }
   ],
   "source": [
    "# API for Validation\n",
    "\n",
    "import cloudmersive_validate_api_client as validate_api\n",
    "from cloudmersive_validate_api_client.rest import ApiException\n",
    "\n",
    "# create an instance of the API class\n",
    "\n",
    "api_instance = api.DomainApi()\n",
    "domain = 'cloudmersive.com'\n",
    "# Configure API key authorization: Apikey\n",
    "\n",
    "api_instance.api_client.configuration.api_key = {}\n",
    "api_instance.api_client.configuration.api_key['Apikey'] = '38256375-ffea-4563-af16-2524d75d3abd'\n",
    "\n",
    "try:\n",
    "    # Validate a domain name\n",
    "    api_response = api_instance.domain_check(domain)\n",
    "    print(api_response)\n",
    "except ApiException as e:\n",
    "    print(\"Exception when calling DomainApi->domain_check: %s\\n\" % e)"
   ]
  },
  {
   "cell_type": "markdown",
   "metadata": {},
   "source": [
    "## Optical Character Recognition\n",
    "\n",
    "Steps to perform OCR\n",
    "1. Import cloudmersive packages for python\n",
    "2. Create a client object\n",
    "3. Create a dictionary and input the api key\n",
    "4. validate the image using image_ocr_post() method."
   ]
  },
  {
   "cell_type": "code",
   "execution_count": 10,
   "metadata": {},
   "outputs": [],
   "source": [
    "import cloudmersive_ocr_api_client as ocrApi\n",
    "from cloudmersive_ocr_api_client.rest import ApiException\n",
    "\n",
    "ocr_api = ocrApi.ImageOcrApi()\n",
    "\n",
    "imagePath = r\"C:/Users/kmy07/Desktop/test2.jpg\""
   ]
  },
  {
   "cell_type": "code",
   "execution_count": 11,
   "metadata": {},
   "outputs": [
    {
     "name": "stdout",
     "output_type": "stream",
     "text": [
      "People cmbe really\n",
      "smart... bu they don't\n",
      "\n",
      "areally beliEVe in it. then\n",
      "they are not going to\n",
      "work really hatJ\n",
      "\n",
      "\n"
     ]
    }
   ],
   "source": [
    "ocr_api.api_client.configuration.api_key = {}\n",
    "ocr_api.api_client.configuration.api_key['Apikey'] = '38256375-ffea-4563-af16-2524d75d3abd'\n",
    "\n",
    "try:\n",
    "    # Validate a domain name\n",
    "    ocr_response = ocr_api.image_ocr_post(imagePath)\n",
    "    print(ocr_response.text_result)\n",
    "except ApiException as e:\n",
    "    print(\"Exception when calling DomainApi->domain_check: %s\\n\" % e)"
   ]
  },
  {
   "cell_type": "code",
   "execution_count": 15,
   "metadata": {},
   "outputs": [
    {
     "name": "stdout",
     "output_type": "stream",
     "text": [
      "(401)\n",
      "Reason: Invalid API key or exceeded limits.\n",
      "HTTP response headers: HTTPHeaderDict({'Cache-Control': 'no-cache', 'Pragma': 'no-cache', 'Expires': '-1', 'Server': 'Cloudmersive Server', 'Request-Context': 'appId=cid-v1:d07bdc60-cbd8-46a0-a358-86a39245f39b', 'Access-Control-Expose-Headers': 'Request-Context', 'X-Powered-By': 'Cloudmersive', 'Date': 'Mon, 14 Jan 2019 10:58:30 GMT', 'Content-Length': '0'})\n",
      "\n"
     ]
    }
   ],
   "source": [
    "import cloudmersive_nlp_api_client as nlpApi\n",
    "from cloudmersive_nlp_api_client.rest import ApiException\n",
    "\n",
    "nlp_api = nlpApi.ExtractEntitiesStringApi()\n",
    "value = r\"Sneha wont tell a sentence\"\n",
    "\n",
    "nlp_api.api_client.configuration.api_key = {}\n",
    "nlp_api.api_client.configuration.api_key['ApiKey'] = '38256375-ffea-4563-af16-2524d75d3abd'\n",
    "\n",
    "try:\n",
    "    nlp_response = nlp_api.extract_entities_string_post(value)\n",
    "    print(nlp_response)\n",
    "except ApiException as e:\n",
    "    print(e)"
   ]
  },
  {
   "cell_type": "code",
   "execution_count": null,
   "metadata": {},
   "outputs": [],
   "source": []
  }
 ],
 "metadata": {
  "kernelspec": {
   "display_name": "Python 3",
   "language": "python",
   "name": "python3"
  },
  "language_info": {
   "codemirror_mode": {
    "name": "ipython",
    "version": 3
   },
   "file_extension": ".py",
   "mimetype": "text/x-python",
   "name": "python",
   "nbconvert_exporter": "python",
   "pygments_lexer": "ipython3",
   "version": "3.6.5"
  }
 },
 "nbformat": 4,
 "nbformat_minor": 2
}
